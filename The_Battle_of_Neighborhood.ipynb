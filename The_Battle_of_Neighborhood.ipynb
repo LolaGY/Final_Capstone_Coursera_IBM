{
 "cells": [
  {
   "cell_type": "markdown",
   "metadata": {},
   "source": [
    "# 1.Introduction of Business"
   ]
  },
  {
   "cell_type": "markdown",
   "metadata": {},
   "source": [
    "## 1.1 Stakeholders & Background \n",
    "\n",
    "Our customer is a restaurant company. They have different brands in different fields such as coffee, Italian restaurant, fast food, etc. They are searching for opportunities to develop in Toronto.\n",
    "\n",
    "There are several domains to be investigated for an investment, such as housing pricing, tax policy, transportation, and neighborhood enviroment. \n",
    "\n",
    "But in this project, we will only focus on one aspect: neighborhood environment. We aim at providing a deep insight of the neighborhood environment of **Toronto city**, in order to cluster these neighborhood for different types of restaurant investment."
   ]
  },
  {
   "cell_type": "markdown",
   "metadata": {},
   "source": [
    "## 1.2 Business problem to be resolved\n",
    "\n",
    "***How to choose wisely the location for a restaurant, depending on type?***\n",
    "\n",
    "+ A good location to establish a **restaurent** should have:\n",
    "    * good flow of quality customers\n",
    "    * less competitors\n",
    "\n",
    "We expect to look into the livelyness of the commercial area, including existing food and beverage businesses, hotels, parks, personal services, etc.). We also look into evaluating the competition: what kind of businesses already exist, are they dominating the market?\n",
    "\n",
    "We will create a **weighted scoring system** for each neighborhood, then based on the scores, we can cluster the venues for further discussion. "
   ]
  },
  {
   "cell_type": "markdown",
   "metadata": {},
   "source": [
    "# 2.Describe the data"
   ]
  },
  {
   "cell_type": "markdown",
   "metadata": {},
   "source": [
    "From previous modules, we have got the below dataset:\n",
    "+ **List of postal codes of Toronto** :\n",
    "This dataset listed all the boroughs and neighborhoods of Toronto city that we will investigate. In this project we will only focus on the below Borough: Downtown Toronto, East Toronto, West Toronto, Central Toronto.\n",
    "https://en.wikipedia.org/wiki/List_of_postal_codes_of_Canada:_M"
   ]
  },
  {
   "cell_type": "markdown",
   "metadata": {},
   "source": [
    "+ **Geospatial of Coordinates** :\n",
    "This data set offers latitude and longitude of all the neighborhoods. It will help us to visulize all the targeted location on the map. \n",
    "http://cocl.us/Geospatial_data"
   ]
  },
  {
   "cell_type": "markdown",
   "metadata": {},
   "source": [
    "+ **Venue data from Foursquare API** :\n",
    "These dataset should be sufficient for our analysis, as the Foursqure API contains variance detailed data that we can look into. \n",
    "We can not only explore neighborhoods' venues, but also look into ratings, tips if we are specially interested about the venue."
   ]
  },
  {
   "cell_type": "code",
   "execution_count": null,
   "metadata": {},
   "outputs": [],
   "source": []
  }
 ],
 "metadata": {
  "kernelspec": {
   "display_name": "Python 3",
   "language": "python",
   "name": "python3"
  },
  "language_info": {
   "codemirror_mode": {
    "name": "ipython",
    "version": 3
   },
   "file_extension": ".py",
   "mimetype": "text/x-python",
   "name": "python",
   "nbconvert_exporter": "python",
   "pygments_lexer": "ipython3",
   "version": "3.7.3"
  }
 },
 "nbformat": 4,
 "nbformat_minor": 2
}
